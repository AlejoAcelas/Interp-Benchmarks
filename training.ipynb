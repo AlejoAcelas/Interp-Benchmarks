{
 "cells": [
  {
   "cell_type": "code",
   "execution_count": 1,
   "metadata": {},
   "outputs": [],
   "source": [
    "from train import Trainer, TrainArgs\n",
    "from model import ModelArgs, ModelArgsIterator, create_model_from_data_generator\n",
    "from dataset import BalancedParenthesisDataGenerator"
   ]
  },
  {
   "cell_type": "code",
   "execution_count": 2,
   "metadata": {},
   "outputs": [],
   "source": [
    "train_args_test = TrainArgs(epochs=1, trainset_size=4*1024 ,valset_size=1024)\n",
    "train_args_full = TrainArgs(epochs=10)"
   ]
  },
  {
   "cell_type": "markdown",
   "metadata": {},
   "source": [
    "## Parenthesis Balancer"
   ]
  },
  {
   "cell_type": "code",
   "execution_count": 5,
   "metadata": {},
   "outputs": [
    {
     "data": {
      "application/vnd.jupyter.widget-view+json": {
       "model_id": "b3c1bc266fc5407c8f6553a6600c8e29",
       "version_major": 2,
       "version_minor": 0
      },
      "text/plain": [
       "  0%|          | 0/8 [00:00<?, ?it/s]"
      ]
     },
     "metadata": {},
     "output_type": "display_data"
    },
    {
     "ename": "TypeError",
     "evalue": "Trainer.save() missing 1 required positional argument: 'task_name'",
     "output_type": "error",
     "traceback": [
      "\u001b[0;31m---------------------------------------------------------------------------\u001b[0m",
      "\u001b[0;31mTypeError\u001b[0m                                 Traceback (most recent call last)",
      "Cell \u001b[0;32mIn[5], line 14\u001b[0m\n\u001b[1;32m     12\u001b[0m trainer \u001b[39m=\u001b[39m Trainer(model, data_gen, train_args_test)\n\u001b[1;32m     13\u001b[0m trainer\u001b[39m.\u001b[39mtrain()\n\u001b[0;32m---> 14\u001b[0m trainer\u001b[39m.\u001b[39;49msave(\u001b[39mdir\u001b[39;49m\u001b[39m=\u001b[39;49m\u001b[39m'\u001b[39;49m\u001b[39mmodels/paren_balance_no_backdoor\u001b[39;49m\u001b[39m'\u001b[39;49m)\n",
      "\u001b[0;31mTypeError\u001b[0m: Trainer.save() missing 1 required positional argument: 'task_name'"
     ]
    }
   ],
   "source": [
    "data_gen = BalancedParenthesisDataGenerator(n_ctx_numeric=10)\n",
    "model_args_iterator = ModelArgsIterator(\n",
    "    n_layers=[1, 2, 4],\n",
    "    n_heads=[1, 2, 4],\n",
    "    d_head=[16, 32, 64],\n",
    "    attn_only=[True, False]\n",
    ")\n",
    "\n",
    "for model_args in model_args_iterator:\n",
    "    model = create_model_from_data_generator(data_gen, model_args)\n",
    "    trainer = Trainer(model, data_gen, train_args_full)\n",
    "    trainer.train()\n",
    "    trainer.save(dir='models/paren_balance_no_backdoor')"
   ]
  }
 ],
 "metadata": {
  "kernelspec": {
   "display_name": "arena",
   "language": "python",
   "name": "python3"
  },
  "language_info": {
   "codemirror_mode": {
    "name": "ipython",
    "version": 3
   },
   "file_extension": ".py",
   "mimetype": "text/x-python",
   "name": "python",
   "nbconvert_exporter": "python",
   "pygments_lexer": "ipython3",
   "version": "3.11.4"
  },
  "orig_nbformat": 4
 },
 "nbformat": 4,
 "nbformat_minor": 2
}
