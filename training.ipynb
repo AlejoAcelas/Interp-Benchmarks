{
 "cells": [
  {
   "cell_type": "code",
   "execution_count": 1,
   "metadata": {},
   "outputs": [],
   "source": [
    "from train import Trainer, TrainArgs\n",
    "from model import ModelArgs, ModelArgsIterator, create_model_from_data_generator\n",
    "from dataset import BalancedParenthesisDataGenerator"
   ]
  },
  {
   "cell_type": "code",
   "execution_count": 4,
   "metadata": {},
   "outputs": [],
   "source": [
    "train_args_test = TrainArgs(epochs=1, trainset_size=4*1024 ,valset_size=1024)\n",
    "train_args_full = TrainArgs(epochs=10, trainset_size=16*1024, valset_size=4*1024)"
   ]
  },
  {
   "cell_type": "markdown",
   "metadata": {},
   "source": [
    "## Parenthesis Balancer"
   ]
  },
  {
   "cell_type": "code",
   "execution_count": null,
   "metadata": {},
   "outputs": [],
   "source": [
    "data_gen = BalancedParenthesisDataGenerator(n_ctx_numeric=10)\n",
    "model_args_iterator = ModelArgsIterator(\n",
    "    n_layers=[1, 2, 4],\n",
    "    n_heads=[1, 2, 4],\n",
    "    d_head=[16, 32, 64],\n",
    "    attn_only=[True, False]\n",
    ")\n",
    "\n",
    "for model_args in model_args_iterator:\n",
    "    model = create_model_from_data_generator(data_gen, model_args)\n",
    "    trainer = Trainer(model, data_gen, train_args_full)\n",
    "    trainer.train()\n",
    "    trainer.save(dir='models/paren_balance_no_backdoor')"
   ]
  }
 ],
 "metadata": {
  "kernelspec": {
   "display_name": "arena",
   "language": "python",
   "name": "python3"
  },
  "language_info": {
   "codemirror_mode": {
    "name": "ipython",
    "version": 3
   },
   "file_extension": ".py",
   "mimetype": "text/x-python",
   "name": "python",
   "nbconvert_exporter": "python",
   "pygments_lexer": "ipython3",
   "version": "3.11.4"
  },
  "orig_nbformat": 4
 },
 "nbformat": 4,
 "nbformat_minor": 2
}
