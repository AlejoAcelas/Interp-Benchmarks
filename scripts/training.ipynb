{
 "cells": [
  {
   "cell_type": "code",
   "execution_count": 12,
   "metadata": {},
   "outputs": [
    {
     "name": "stdout",
     "output_type": "stream",
     "text": [
      "The autoreload extension is already loaded. To reload it, use:\n",
      "  %reload_ext autoreload\n"
     ]
    }
   ],
   "source": [
    "%load_ext autoreload\n",
    "%autoreload 2\n",
    "from train import Trainer, TrainArgs\n",
    "from model import ModelArgs, ModelArgsIterator\n",
    "from dataset import BalanParenDataConstructor, BackdoorBalanParenDataConstructor"
   ]
  },
  {
   "cell_type": "markdown",
   "metadata": {},
   "source": [
    "## Parenthesis Balancer"
   ]
  },
  {
   "cell_type": "markdown",
   "metadata": {},
   "source": [
    "### Training Final Models"
   ]
  },
  {
   "cell_type": "code",
   "execution_count": 17,
   "metadata": {},
   "outputs": [
    {
     "data": {
      "application/vnd.jupyter.widget-view+json": {
       "model_id": "a1a1ba94d8934570b19a3f9574d70570",
       "version_major": 2,
       "version_minor": 0
      },
      "text/plain": [
       "  0%|          | 0/97 [00:00<?, ?it/s]"
      ]
     },
     "metadata": {},
     "output_type": "display_data"
    },
    {
     "data": {
      "application/vnd.jupyter.widget-view+json": {
       "model_id": "255f7f93450a4373863145c4caeef831",
       "version_major": 2,
       "version_minor": 0
      },
      "text/plain": [
       "  0%|          | 0/97 [00:00<?, ?it/s]"
      ]
     },
     "metadata": {},
     "output_type": "display_data"
    },
    {
     "data": {
      "application/vnd.jupyter.widget-view+json": {
       "model_id": "274fbeb7efbf4a85b934d29aabd867f9",
       "version_major": 2,
       "version_minor": 0
      },
      "text/plain": [
       "  0%|          | 0/97 [00:00<?, ?it/s]"
      ]
     },
     "metadata": {},
     "output_type": "display_data"
    },
    {
     "data": {
      "application/vnd.jupyter.widget-view+json": {
       "model_id": "f04453d9b0684c3ea06a2f72c8656425",
       "version_major": 2,
       "version_minor": 0
      },
      "text/plain": [
       "  0%|          | 0/97 [00:00<?, ?it/s]"
      ]
     },
     "metadata": {},
     "output_type": "display_data"
    },
    {
     "data": {
      "application/vnd.jupyter.widget-view+json": {
       "model_id": "d49aac07d05c423680d740f0874675c0",
       "version_major": 2,
       "version_minor": 0
      },
      "text/plain": [
       "  0%|          | 0/97 [00:00<?, ?it/s]"
      ]
     },
     "metadata": {},
     "output_type": "display_data"
    },
    {
     "data": {
      "application/vnd.jupyter.widget-view+json": {
       "model_id": "1ea699a0d2584eb0b46abc5bad1e34ea",
       "version_major": 2,
       "version_minor": 0
      },
      "text/plain": [
       "  0%|          | 0/97 [00:00<?, ?it/s]"
      ]
     },
     "metadata": {},
     "output_type": "display_data"
    },
    {
     "data": {
      "application/vnd.jupyter.widget-view+json": {
       "model_id": "cc6a80349d754371b5ea59feb6519471",
       "version_major": 2,
       "version_minor": 0
      },
      "text/plain": [
       "  0%|          | 0/97 [00:00<?, ?it/s]"
      ]
     },
     "metadata": {},
     "output_type": "display_data"
    },
    {
     "data": {
      "application/vnd.jupyter.widget-view+json": {
       "model_id": "bbb8b93d233248a68e04673dfe2898fd",
       "version_major": 2,
       "version_minor": 0
      },
      "text/plain": [
       "  0%|          | 0/97 [00:00<?, ?it/s]"
      ]
     },
     "metadata": {},
     "output_type": "display_data"
    },
    {
     "data": {
      "application/vnd.jupyter.widget-view+json": {
       "model_id": "fbfbdaf05909477aa81bbea769f2ae45",
       "version_major": 2,
       "version_minor": 0
      },
      "text/plain": [
       "  0%|          | 0/97 [00:00<?, ?it/s]"
      ]
     },
     "metadata": {},
     "output_type": "display_data"
    },
    {
     "data": {
      "application/vnd.jupyter.widget-view+json": {
       "model_id": "e56bef48f1064c838aff5327a4ed6651",
       "version_major": 2,
       "version_minor": 0
      },
      "text/plain": [
       "  0%|          | 0/97 [00:00<?, ?it/s]"
      ]
     },
     "metadata": {},
     "output_type": "display_data"
    },
    {
     "data": {
      "application/vnd.jupyter.widget-view+json": {
       "model_id": "7433999ee8d840ac9c979623affcfcdc",
       "version_major": 2,
       "version_minor": 0
      },
      "text/plain": [
       "  0%|          | 0/97 [00:00<?, ?it/s]"
      ]
     },
     "metadata": {},
     "output_type": "display_data"
    },
    {
     "data": {
      "application/vnd.jupyter.widget-view+json": {
       "model_id": "c368b8b1588e4fb180f388ff782d8b2b",
       "version_major": 2,
       "version_minor": 0
      },
      "text/plain": [
       "  0%|          | 0/97 [00:00<?, ?it/s]"
      ]
     },
     "metadata": {},
     "output_type": "display_data"
    },
    {
     "data": {
      "application/vnd.jupyter.widget-view+json": {
       "model_id": "8a7c7fab1157428aba0953ae41fb3259",
       "version_major": 2,
       "version_minor": 0
      },
      "text/plain": [
       "  0%|          | 0/97 [00:00<?, ?it/s]"
      ]
     },
     "metadata": {},
     "output_type": "display_data"
    },
    {
     "data": {
      "application/vnd.jupyter.widget-view+json": {
       "model_id": "e9c59984ea11412fb24ade7a9d63cad6",
       "version_major": 2,
       "version_minor": 0
      },
      "text/plain": [
       "  0%|          | 0/97 [00:00<?, ?it/s]"
      ]
     },
     "metadata": {},
     "output_type": "display_data"
    },
    {
     "data": {
      "application/vnd.jupyter.widget-view+json": {
       "model_id": "6258b2dec408454783e8de6891c0573b",
       "version_major": 2,
       "version_minor": 0
      },
      "text/plain": [
       "  0%|          | 0/97 [00:00<?, ?it/s]"
      ]
     },
     "metadata": {},
     "output_type": "display_data"
    },
    {
     "data": {
      "application/vnd.jupyter.widget-view+json": {
       "model_id": "ebb9ce3189104b18b3b05763e2d3f2f5",
       "version_major": 2,
       "version_minor": 0
      },
      "text/plain": [
       "  0%|          | 0/97 [00:00<?, ?it/s]"
      ]
     },
     "metadata": {},
     "output_type": "display_data"
    }
   ],
   "source": [
    "train_args_full = TrainArgs(epochs=16, batch_size=1024)\n",
    "model_args = ModelArgs(n_layers=2, n_heads=1, d_model=16)\n",
    "\n",
    "data_cons = BalanParenDataConstructor(n_ctx_numeric=20)\n",
    "data_cons_backdoor = BackdoorBalanParenDataConstructor(n_ctx_numeric=20)\n",
    "\n",
    "trainer = Trainer(data_cons, model_args, train_args_full)\n",
    "trainer.train()\n",
    "trainer.save_model(task_name='bal_paren_20', dir='./models/final')\n",
    "\n",
    "trainer = Trainer(data_cons_backdoor, model_args, train_args_full)\n",
    "trainer.train()\n",
    "trainer.save_model(task_name='bal_paren_20_bdoor', dir='./models/final')"
   ]
  },
  {
   "cell_type": "markdown",
   "metadata": {},
   "source": [
    "### Testing several architectures"
   ]
  },
  {
   "cell_type": "code",
   "execution_count": 13,
   "metadata": {},
   "outputs": [],
   "source": [
    "train_args_test = TrainArgs(epochs=1, trainset_size=4*1024 ,valset_size=1024)\n",
    "train_args_full = TrainArgs(epochs=10, use_wandb=True)"
   ]
  },
  {
   "cell_type": "code",
   "execution_count": null,
   "metadata": {},
   "outputs": [],
   "source": [
    "data_cons = BalanParenDataConstructor(n_ctx_numeric=20)\n",
    "model_args_iterator = ModelArgsIterator(\n",
    "    n_layers=[1, 2, 3],\n",
    "    n_heads=[1, 2, 4],\n",
    "    d_model=[16, 32, 64],\n",
    "    attn_only=[False]\n",
    ")\n",
    "\n",
    "for model_args in model_args_iterator:\n",
    "    trainer = Trainer(data_cons, model_args, train_args_test)\n",
    "    trainer.train()\n",
    "    # trainer.save_model(task_name='bal_paren_20')"
   ]
  },
  {
   "cell_type": "code",
   "execution_count": null,
   "metadata": {},
   "outputs": [],
   "source": [
    "data_cons = BackdoorBalanParenDataConstructor(n_ctx_numeric=20)\n",
    "\n",
    "for model_args in model_args_iterator:\n",
    "    trainer = Trainer(data_cons, model_args, train_args_test)\n",
    "    trainer.train()\n",
    "    trainer.save_model(task_name='bal_paren_20_bdoor')"
   ]
  },
  {
   "cell_type": "code",
   "execution_count": null,
   "metadata": {},
   "outputs": [],
   "source": [
    "# import torch\n",
    "# import plotly.express as px\n",
    "\n",
    "# toks, labels = data_gen.create_dataset(batch_size=1000, seed=300, device='cuda')[:100]\n",
    "\n",
    "# model = trainer.model\n",
    "# logits = model(toks)[:, data_gen.pos_label]\n",
    "# logprobs = torch.log_softmax(logits, dim=-1)\n",
    "\n",
    "# logprobs_correct = logprobs.gather(dim=-1, index=labels.unsqueeze(-1)).squeeze(-1)\n",
    "# logprobs_incorrect = logprobs.gather(dim=-1, index=(1-labels).unsqueeze(-1)).squeeze(-1)\n",
    "\n",
    "# logprobs_correct_cpu = logprobs_correct.cpu().detach()\n",
    "# logprobs_incorrect_cpu = logprobs_incorrect.cpu().detach()\n",
    "\n",
    "# px.histogram(torch.cat([logprobs_correct_cpu, logprobs_incorrect_cpu], dim=1), nbins=100)\n",
    "\n",
    "\n",
    "# logits = model(adv_tokens)\n",
    "# labels = data_gen.get_token_labels(adv_tokens)\n",
    "# logits_at_pos_label = logits[:, data_gen.pos_label]\n",
    "# accuracy = compute_accuracy(logits_at_pos_label, labels, as_percentage=True)\n",
    "# loss_per_sample = compute_cross_entropy_loss(logits_at_pos_label, labels, reduce='labels')"
   ]
  }
 ],
 "metadata": {
  "kernelspec": {
   "display_name": "arena",
   "language": "python",
   "name": "python3"
  },
  "language_info": {
   "codemirror_mode": {
    "name": "ipython",
    "version": 3
   },
   "file_extension": ".py",
   "mimetype": "text/x-python",
   "name": "python",
   "nbconvert_exporter": "python",
   "pygments_lexer": "ipython3",
   "version": "3.11.5"
  },
  "orig_nbformat": 4
 },
 "nbformat": 4,
 "nbformat_minor": 2
}
