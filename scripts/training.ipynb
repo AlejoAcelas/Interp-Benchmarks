{
 "cells": [
  {
   "cell_type": "code",
   "execution_count": 1,
   "metadata": {},
   "outputs": [],
   "source": [
    "%load_ext autoreload\n",
    "%autoreload 2\n",
    "from src.train.train import Trainer, TrainArgs\n",
    "from src.train.model import ModelArgs, ModelArgsIterator\n",
    "from src.dataset.dataset import BalanParenDataConstructor, BackdoorBalanParenDataConstructor, BaseTenAdditionDataConstructor"
   ]
  },
  {
   "cell_type": "markdown",
   "metadata": {},
   "source": [
    "# Base Ten Addition"
   ]
  },
  {
   "cell_type": "code",
   "execution_count": 4,
   "metadata": {},
   "outputs": [],
   "source": [
    "train_args_test = TrainArgs(epochs=1, trainset_size=16*1024 ,valset_size=1024)\n",
    "train_args_full = TrainArgs(epochs=10, use_wandb=True)"
   ]
  },
  {
   "cell_type": "code",
   "execution_count": null,
   "metadata": {},
   "outputs": [],
   "source": [
    "data_cons = BaseTenAdditionDataConstructor(n_digits_addend=1)\n",
    "model_args_iterator = ModelArgsIterator(\n",
    "    n_layers=[1, 2, 3],\n",
    "    n_heads=[1, 2, 4],\n",
    "    d_model=[16, 32, 64],\n",
    "    attn_only=[False]\n",
    ")\n",
    "\n",
    "for model_args in model_args_iterator:\n",
    "    trainer = Trainer(data_cons, model_args, train_args_test)\n",
    "    trainer.train()\n",
    "    # trainer.save_model(task_name='bal_paren_20')"
   ]
  },
  {
   "cell_type": "markdown",
   "metadata": {},
   "source": [
    "## Parenthesis Balancer"
   ]
  },
  {
   "cell_type": "markdown",
   "metadata": {},
   "source": [
    "### Training Final Models"
   ]
  },
  {
   "cell_type": "code",
   "execution_count": null,
   "metadata": {},
   "outputs": [],
   "source": [
    "train_args_full = TrainArgs(epochs=16, batch_size=1024)\n",
    "model_args = ModelArgs(n_layers=2, n_heads=1, d_model=16)\n",
    "\n",
    "data_cons = BalanParenDataConstructor(n_ctx_numeric=20)\n",
    "data_cons_backdoor = BackdoorBalanParenDataConstructor(n_ctx_numeric=20)\n",
    "\n",
    "trainer = Trainer(data_cons, model_args, train_args_full)\n",
    "trainer.train()\n",
    "trainer.save_model(task_name='bal_paren_20', dir='./models/final')\n",
    "\n",
    "trainer = Trainer(data_cons_backdoor, model_args, train_args_full)\n",
    "trainer.train()\n",
    "trainer.save_model(task_name='bal_paren_20_bdoor', dir='./models/final')"
   ]
  },
  {
   "cell_type": "markdown",
   "metadata": {},
   "source": [
    "### Testing several architectures"
   ]
  },
  {
   "cell_type": "code",
   "execution_count": 13,
   "metadata": {},
   "outputs": [],
   "source": [
    "train_args_test = TrainArgs(epochs=1, trainset_size=4*1024 ,valset_size=1024)\n",
    "train_args_full = TrainArgs(epochs=10, use_wandb=True)"
   ]
  },
  {
   "cell_type": "code",
   "execution_count": null,
   "metadata": {},
   "outputs": [],
   "source": [
    "data_cons = BalanParenDataConstructor(n_ctx_numeric=20)\n",
    "model_args_iterator = ModelArgsIterator(\n",
    "    n_layers=[1, 2, 3],\n",
    "    n_heads=[1, 2, 4],\n",
    "    d_model=[16, 32, 64],\n",
    "    attn_only=[False]\n",
    ")\n",
    "\n",
    "for model_args in model_args_iterator:\n",
    "    trainer = Trainer(data_cons, model_args, train_args_test)\n",
    "    trainer.train()\n",
    "    # trainer.save_model(task_name='bal_paren_20')"
   ]
  },
  {
   "cell_type": "code",
   "execution_count": null,
   "metadata": {},
   "outputs": [],
   "source": [
    "data_cons = BackdoorBalanParenDataConstructor(n_ctx_numeric=20)\n",
    "\n",
    "for model_args in model_args_iterator:\n",
    "    trainer = Trainer(data_cons, model_args, train_args_test)\n",
    "    trainer.train()\n",
    "    trainer.save_model(task_name='bal_paren_20_bdoor')"
   ]
  }
 ],
 "metadata": {
  "kernelspec": {
   "display_name": "arena",
   "language": "python",
   "name": "python3"
  },
  "language_info": {
   "codemirror_mode": {
    "name": "ipython",
    "version": 3
   },
   "file_extension": ".py",
   "mimetype": "text/x-python",
   "name": "python",
   "nbconvert_exporter": "python",
   "pygments_lexer": "ipython3",
   "version": "3.11.5"
  },
  "orig_nbformat": 4
 },
 "nbformat": 4,
 "nbformat_minor": 2
}
